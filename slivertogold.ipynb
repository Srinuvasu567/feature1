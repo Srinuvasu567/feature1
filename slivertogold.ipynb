{
 "cells": [
  {
   "cell_type": "markdown",
   "metadata": {
    "application/vnd.databricks.v1+cell": {
     "cellMetadata": {
      "byteLimit": 2048000,
      "rowLimit": 10000
     },
     "inputWidgets": {},
     "nuid": "1d57c8b5-67a5-4b75-a8c9-c57d655f59db",
     "showTitle": false,
     "tableResultSettingsMap": {},
     "title": ""
    }
   },
   "source": [
    "Sliver To Gold"
   ]
  },
  {
   "cell_type": "code",
   "execution_count": 0,
   "metadata": {
    "application/vnd.databricks.v1+cell": {
     "cellMetadata": {
      "byteLimit": 2048000,
      "rowLimit": 10000
     },
     "inputWidgets": {},
     "nuid": "beaa8256-4e77-49d2-8a68-bbe364c3d8b7",
     "showTitle": false,
     "tableResultSettingsMap": {},
     "title": ""
    }
   },
   "outputs": [],
   "source": [
    "from pyspark.sql.functions import col,sum,split,concat,lit,current_timestamp,rank\n",
    "from delta.tables import DeltaTable"
   ]
  },
  {
   "cell_type": "code",
   "execution_count": 0,
   "metadata": {
    "application/vnd.databricks.v1+cell": {
     "cellMetadata": {
      "byteLimit": 2048000,
      "rowLimit": 10000
     },
     "inputWidgets": {},
     "nuid": "da9586bc-6604-4c58-ac4f-08c4f582c0f9",
     "showTitle": false,
     "tableResultSettingsMap": {},
     "title": ""
    }
   },
   "outputs": [],
   "source": [
    "## read data from sliver\n",
    "sliverlocation=\"/mnt/bayerhackathon/squad2-srinivasu/sliver/\"\n",
    "customerDf=spark.read.format(\"delta\").load(f\"{sliverlocation}/customer/\").distinct()\n",
    "\n",
    "OrderDF=spark.read.format(\"delta\").load(f\"{sliverlocation}/order/\").distinct()\n",
    "OrderLineDF=spark.read.format(\"delta\").load(f\"{sliverlocation}/orderline/\").distinct()\n",
    "CustomerBehaviourDF=spark.read.format(\"delta\").load(f\"{sliverlocation}/customerbehaviour/\").distinct()\n",
    "\n"
   ]
  },
  {
   "cell_type": "code",
   "execution_count": 0,
   "metadata": {
    "application/vnd.databricks.v1+cell": {
     "cellMetadata": {
      "byteLimit": 2048000,
      "rowLimit": 10000
     },
     "inputWidgets": {},
     "nuid": "00fcc8c4-c65c-4e26-8073-403ac738996a",
     "showTitle": false,
     "tableResultSettingsMap": {},
     "title": ""
    }
   },
   "outputs": [],
   "source": [
    "##transformations\n",
    "\n",
    "from pyspark.sql.window import Window\n",
    "\n",
    "customerDf_t=customerDf.withColumn(\"Adrress_new\",split(\"Address\",\" \"))\\\n",
    "                    .withColumn(\"Adrress_Line_1\",col(\"Adrress_new\")[0])\\\n",
    "                    .withColumn(\"Adrress_Line_2\",concat(col(\"Adrress_new\")[1],col(\"Adrress_new\")[2]))\n",
    "\n",
    "spec = Window.partitionBy(\"customer_id\").orderBy(col(\"Created_date\").desc())\n",
    "customerDf_tl = customerDf_t.withColumn(\"rank\", rank().over(spec)).filter(col(\"rank\")==1)"
   ]
  },
  {
   "cell_type": "code",
   "execution_count": 0,
   "metadata": {
    "application/vnd.databricks.v1+cell": {
     "cellMetadata": {
      "byteLimit": 2048000,
      "rowLimit": 10000
     },
     "inputWidgets": {},
     "nuid": "a8694c30-1dbe-4284-9750-7f2499f177e3",
     "showTitle": false,
     "tableResultSettingsMap": {},
     "title": ""
    }
   },
   "outputs": [],
   "source": [
    "%python\n",
    "from pyspark.sql.functions import lit, current_timestamp\n",
    "from delta.tables import DeltaTable\n",
    "\n",
    "# Read the source data\n",
    "customercdcDf1 = spark.read.format(\"csv\").option(\"header\", \"True\").option(\"inferSchema\", \"True\") \\\n",
    "    .option(\"delimiter\", \";\") \\\n",
    "    .load(\"/mnt/bayerhackathon/customer_SCD2_data.csv\")\n",
    "\n",
    "# Deduplicate the source DataFrame\n",
    "customercdcDf1 = customercdcDf1.dropDuplicates([\"customer_id\"])\n",
    "\n",
    "gold_path = \"/mnt/bayerhackathon/squad2-srinivasu/gold/\"\n",
    "\n",
    "# Check if Gold table exists\n",
    "if not DeltaTable.isDeltaTable(spark, f\"{gold_path}/customer/\"):\n",
    "    # Initialize Gold table\n",
    "    customercdcDf1.withColumn(\"IsCurrent\", lit(True)) \\\n",
    "        .withColumn(\"StartDate\", current_timestamp()) \\\n",
    "        .withColumn(\"EndDate\", lit(None).cast(\"timestamp\")) \\\n",
    "        .write.format(\"delta\").save(f\"{gold_path}/customer/\")\n",
    "else:\n",
    "    # Perform SCD Type 2 merge\n",
    "    gold_table = DeltaTable.forPath(spark, f\"{gold_path}/customer/\")\n",
    "\n",
    "    gold_table.alias(\"gold\").merge(\n",
    "        customercdcDf1.alias(\"silver\"),\n",
    "        \"gold.customer_id = silver.customer_id\"\n",
    "    ).whenMatchedUpdate(\n",
    "        condition=\"gold.first_name != silver.first_name OR gold.last_name != silver.last_name OR gold.email != silver.email OR gold.gender != silver.gender OR gold.Address != silver.Address OR gold.city != silver.city OR gold.state != silver.state OR gold.country != silver.country OR gold.zipcode != silver.zipcode OR gold.phone != silver.phone OR gold.created_date != silver.created_date\",\n",
    "        set={\n",
    "            \"IsCurrent\": lit(False),\n",
    "            \"EndDate\": current_timestamp()\n",
    "        }\n",
    "    ).whenNotMatchedInsert(\n",
    "        values={\n",
    "            \"customer_id\": \"silver.customer_id\",\n",
    "            \"first_name\": \"silver.first_name\",\n",
    "            \"last_name\": \"silver.last_name\",\n",
    "            \"email\": \"silver.email\",\n",
    "            \"gender\": \"silver.gender\",\n",
    "            \"Address\": \"silver.Address\",\n",
    "            \"city\": \"silver.city\",\n",
    "            \"state\": \"silver.state\",\n",
    "            \"country\": \"silver.country\",\n",
    "            \"zipcode\": \"silver.zipcode\",\n",
    "            \"phone\": \"silver.phone\",\n",
    "            \"created_date\": \"silver.created_date\",\n",
    "            \"IsCurrent\": lit(True),\n",
    "            \"StartDate\": current_timestamp(),\n",
    "            \"EndDate\": lit(None).cast(\"timestamp\")\n",
    "        }\n",
    "    ).execute()"
   ]
  },
  {
   "cell_type": "code",
   "execution_count": 0,
   "metadata": {
    "application/vnd.databricks.v1+cell": {
     "cellMetadata": {},
     "inputWidgets": {},
     "nuid": "770e7786-dd6d-41ff-8a73-01f5e2fe6a60",
     "showTitle": false,
     "tableResultSettingsMap": {},
     "title": ""
    }
   },
   "outputs": [],
   "source": [
    ".join(OrderLineDF.alias(\"orderline\"),col(\"order.order_id\")==col(\"orderline.order_id\"),\"left\")\\\n",
    ".join(CustomerBehaviourDF.alias(\"behaviour\"),col(\"cust.customer_id\")==col(\"behaviour.customer_id\"),\"left\")\\"
   ]
  },
  {
   "cell_type": "code",
   "execution_count": 0,
   "metadata": {
    "application/vnd.databricks.v1+cell": {
     "cellMetadata": {},
     "inputWidgets": {},
     "nuid": "867169f9-8bfb-4ee9-95d9-9d6f4a455471",
     "showTitle": false,
     "tableResultSettingsMap": {},
     "title": ""
    }
   },
   "outputs": [],
   "source": [
    "\"behaviour.order_frequency\",\"behaviour.average_order_value\",\"behaviour.customer_lifetime_value\",\"behaviour.website_visits\",\"behaviour.seconds_spent_on_website\",\"behaviour.page_views\",\"behaviour.cart_abandonment_rate\""
   ]
  },
  {
   "cell_type": "code",
   "execution_count": 0,
   "metadata": {
    "application/vnd.databricks.v1+cell": {
     "cellMetadata": {
      "byteLimit": 2048000,
      "rowLimit": 10000
     },
     "inputWidgets": {},
     "nuid": "dcd61324-119e-485d-b2d1-e4d4a2c1cb27",
     "showTitle": false,
     "tableResultSettingsMap": {},
     "title": ""
    }
   },
   "outputs": [],
   "source": [
    "## final dataset\n",
    "gold_analytics_cust=spark.read.format(\"delta\").load(f\"{gold_path}/customer/\")\n",
    "\n",
    "gold_analytics=gold_analytics_cust.alias(\"cust\")\\\n",
    "    .join(CustomerBehaviourDF.alias(\"behaviour\"),col(\"cust.customer_id\")==col(\"behaviour.customer_id\"),\"left\")\\\n",
    "    .join(OrderDF.alias(\"order\"),col(\"cust.customer_id\")==col(\"order.customer_id\"),\"left\")\\\n",
    "    .join(OrderLineDF.alias(\"orderline\"),col(\"order.order_id\")==col(\"orderline.order_id\"),\"left\")\\\n",
    "    .selectExpr(\"cust.*\",\"order.order_id\",\"order.order_date\",\"order.order_channel\",\"order.store_code\",\"order.state as order_state\",\"order.order_country\",\"order.total_purchase_value\",\"order_line_id\",\"product\",\"quantity\",\"price\",\"order_currency\",\"behaviour.order_frequency\",\"behaviour.average_order_value\",\"behaviour.customer_lifetime_value\",\"behaviour.website_visits\",\"behaviour.seconds_spent_on_website\",\"behaviour.page_views\",\"behaviour.cart_abandonment_rate\").distinct()\n",
    "\n"
   ]
  },
  {
   "cell_type": "code",
   "execution_count": 0,
   "metadata": {
    "application/vnd.databricks.v1+cell": {
     "cellMetadata": {
      "byteLimit": 2048000,
      "rowLimit": 10000
     },
     "inputWidgets": {},
     "nuid": "ea9681af-f9ac-456e-9237-c67df0f080bc",
     "showTitle": false,
     "tableResultSettingsMap": {},
     "title": ""
    }
   },
   "outputs": [],
   "source": [
    "gold_analytics_cust.count()"
   ]
  },
  {
   "cell_type": "code",
   "execution_count": 0,
   "metadata": {
    "application/vnd.databricks.v1+cell": {
     "cellMetadata": {
      "byteLimit": 2048000,
      "rowLimit": 10000
     },
     "inputWidgets": {},
     "nuid": "459ecd72-32bf-41f9-967b-291e7d5ccfe4",
     "showTitle": false,
     "tableResultSettingsMap": {},
     "title": ""
    }
   },
   "outputs": [],
   "source": [
    "display(CustomerBehaviourDF)"
   ]
  },
  {
   "cell_type": "code",
   "execution_count": 0,
   "metadata": {
    "application/vnd.databricks.v1+cell": {
     "cellMetadata": {
      "byteLimit": 2048000,
      "rowLimit": 10000
     },
     "inputWidgets": {},
     "nuid": "a3306e05-f423-4cae-bc6f-8c1350e4e1fb",
     "showTitle": false,
     "tableResultSettingsMap": {},
     "title": ""
    }
   },
   "outputs": [],
   "source": [
    "CustomerBehaviourDF.count()"
   ]
  },
  {
   "cell_type": "code",
   "execution_count": 0,
   "metadata": {
    "application/vnd.databricks.v1+cell": {
     "cellMetadata": {
      "byteLimit": 2048000,
      "rowLimit": 10000
     },
     "inputWidgets": {},
     "nuid": "a5a08a45-d7fa-4d6d-a089-73bb561ae573",
     "showTitle": false,
     "tableResultSettingsMap": {},
     "title": ""
    }
   },
   "outputs": [],
   "source": [
    "gold_analytics.count()"
   ]
  },
  {
   "cell_type": "code",
   "execution_count": 0,
   "metadata": {
    "application/vnd.databricks.v1+cell": {
     "cellMetadata": {
      "byteLimit": 2048000,
      "rowLimit": 10000
     },
     "inputWidgets": {},
     "nuid": "8076d797-ae48-449e-b87d-924a246553b2",
     "showTitle": false,
     "tableResultSettingsMap": {},
     "title": ""
    }
   },
   "outputs": [],
   "source": [
    "gold_analytics.write.format(\"delta\").mode(\"overwrite\").save(f\"{gold_path}/gold_analytics/\")"
   ]
  }
 ],
 "metadata": {
  "application/vnd.databricks.v1+notebook": {
   "computePreferences": null,
   "dashboards": [],
   "environmentMetadata": {
    "base_environment": "",
    "client": "1"
   },
   "language": "python",
   "notebookMetadata": {
    "mostRecentlyExecutedCommandWithImplicitDF": {
     "commandId": 5097490352398942,
     "dataframes": [
      "_sqldf"
     ]
    },
    "pythonIndentUnit": 4
   },
   "notebookName": "slivertogold",
   "widgets": {}
  },
  "language_info": {
   "name": "python"
  }
 },
 "nbformat": 4,
 "nbformat_minor": 0
}
