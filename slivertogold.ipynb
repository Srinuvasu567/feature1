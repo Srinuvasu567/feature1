{
 "cells": [
  {
   "cell_type": "markdown",
   "metadata": {
    "application/vnd.databricks.v1+cell": {
     "cellMetadata": {},
     "inputWidgets": {},
     "nuid": "1d57c8b5-67a5-4b75-a8c9-c57d655f59db",
     "showTitle": false,
     "tableResultSettingsMap": {},
     "title": ""
    }
   },
   "source": [
    "Sliver To Gold"
   ]
  },
  {
   "cell_type": "code",
   "execution_count": 0,
   "metadata": {
    "application/vnd.databricks.v1+cell": {
     "cellMetadata": {
      "byteLimit": 2048000,
      "rowLimit": 10000
     },
     "inputWidgets": {},
     "nuid": "beaa8256-4e77-49d2-8a68-bbe364c3d8b7",
     "showTitle": false,
     "tableResultSettingsMap": {},
     "title": ""
    }
   },
   "outputs": [],
   "source": [
    "from pyspark.sql.functions import col,sum,split,concat,lit,current_timestamp\n",
    "from delta.tables import DeltaTable"
   ]
  },
  {
   "cell_type": "code",
   "execution_count": 0,
   "metadata": {
    "application/vnd.databricks.v1+cell": {
     "cellMetadata": {
      "byteLimit": 2048000,
      "rowLimit": 10000
     },
     "inputWidgets": {},
     "nuid": "da9586bc-6604-4c58-ac4f-08c4f582c0f9",
     "showTitle": false,
     "tableResultSettingsMap": {},
     "title": ""
    }
   },
   "outputs": [],
   "source": [
    "## read data from sliver\n",
    "sliverlocation=\"/mnt/bayerhackathon/squad2-srinivasu/sliver/\"\n",
    "customerDf=spark.read.format(\"delta\").load(f\"{sliverlocation}/customer/\")\n",
    "OrderDF=spark.read.format(\"delta\").load(f\"{sliverlocation}/order/\")\n",
    "OrderLineDF=spark.read.format(\"delta\").load(f\"{sliverlocation}/orderline/\")\n",
    "CustomerBehaviourDF=spark.read.format(\"delta\").load(f\"{sliverlocation}/customerbehaviour/\")\n",
    "\n"
   ]
  },
  {
   "cell_type": "code",
   "execution_count": 0,
   "metadata": {
    "application/vnd.databricks.v1+cell": {
     "cellMetadata": {
      "byteLimit": 2048000,
      "rowLimit": 10000
     },
     "inputWidgets": {},
     "nuid": "00fcc8c4-c65c-4e26-8073-403ac738996a",
     "showTitle": false,
     "tableResultSettingsMap": {},
     "title": ""
    }
   },
   "outputs": [],
   "source": [
    "##transformations\n",
    "\n",
    "customerDf_t=customerDf.withColumn(\"Adrress_new\",split(\"Address\",\" \"))\\\n",
    "                    .withColumn(\"Adrress_Line_1\",col(\"Adrress_new\")[0])\\\n",
    "                    .withColumn(\"Adrress_Line_2\",concat(col(\"Adrress_new\")[1],col(\"Adrress_new\")[2]))    "
   ]
  },
  {
   "cell_type": "code",
   "execution_count": 0,
   "metadata": {
    "application/vnd.databricks.v1+cell": {
     "cellMetadata": {
      "byteLimit": 2048000,
      "rowLimit": 10000
     },
     "inputWidgets": {},
     "nuid": "a8694c30-1dbe-4284-9750-7f2499f177e3",
     "showTitle": false,
     "tableResultSettingsMap": {},
     "title": ""
    }
   },
   "outputs": [],
   "source": [
    "##SCD Type 2 implementation\n",
    "customercdcDf=spark.read.format(\"csv\").option(\"header\",\"True\").option(\"inferSchema\",\"True\")\\\n",
    "                                .option(\"delimiter\",\";\")\\\n",
    "                                .load(\"/mnt/bayerhackathon/customer_SCD2_data.csv\")\n",
    "\n",
    "gold_path=\"/mnt/bayerhackathon/squad2-srinivasu/gold/\"\n",
    "\n",
    "# Check if Gold table exists\n",
    "if not DeltaTable.isDeltaTable(spark, f\"{gold_path}/customer/\"):\n",
    "        # Initialize Gold table\n",
    "      customerDf_t.withColumn(\"IsCurrent\", lit(True)) \\\n",
    "                 .withColumn(\"StartDate\", current_timestamp()) \\\n",
    "                 .withColumn(\"EndDate\", lit(None).cast(\"timestamp\")) \\\n",
    "                 .write.format(\"delta\").save(f\"{gold_path}/customer/\")\n",
    "else:\n",
    "        # Perform SCD Type 2 merge\n",
    "        gold_table = DeltaTable.forPath(spark, f\"{gold_path}/customer/\")\n",
    "\n",
    "        gold_table.alias(\"gold\").merge(\n",
    "            customerDf_t.alias(\"silver\"),\n",
    "            \"gold.customer_id = silver.customer_id\",\n",
    "        ).whenMatchedUpdate(\n",
    "            condition=\"gold.first_name != silver.first_name OR gold.last_name != silver.last_name OR gold.email !=silver.email OR gold.gender !=sliver.gender OR gold.Address != silver.Address OR gold.city != silver.city OR gold.state != silver.state OR gold.country != silver.country OR gold.zipcode != silver.zipcode OR gold.phone != silver.phone \",\n",
    "            set={\n",
    "                \"IsCurrent\": lit(False),\n",
    "                \"EndDate\": current_timestamp()\n",
    "            }\n",
    "        ).whenNotMatchedInsert(\n",
    "            values={\n",
    "                \"customer_id\": \"silver.customer_id\",\n",
    "                \"first_name\": \"silver.first_name\",\n",
    "                \"last_name\": \"silver.last_name\",\n",
    "                \"email\": \"silver.email\",\n",
    "                \"gender\": \"silver.gender\",\n",
    "                \"Address\": \"silver.Address\",\n",
    "                \"city\": \"silver.city\",\n",
    "                \"state\":\"sliver.state\",\n",
    "                \"country\":\"silver.country\",\n",
    "                \"zipcode\":\"silver.zipcode\",\n",
    "                \"phone\":\"silver.phone\",\n",
    "                \"created_date\": \"silver.created_date\",\n",
    "                \"IsCurrent\": lit(True),\n",
    "                \"StartDate\": current_timestamp(),\n",
    "                \"EndDate\": lit(None).cast(\"timestamp\")\n",
    "            }\n",
    "        ).execute()\n",
    "\n",
    "\n",
    "\n",
    "\n"
   ]
  },
  {
   "cell_type": "code",
   "execution_count": 0,
   "metadata": {
    "application/vnd.databricks.v1+cell": {
     "cellMetadata": {
      "byteLimit": 2048000,
      "rowLimit": 10000
     },
     "inputWidgets": {},
     "nuid": "dcd61324-119e-485d-b2d1-e4d4a2c1cb27",
     "showTitle": false,
     "tableResultSettingsMap": {},
     "title": ""
    }
   },
   "outputs": [],
   "source": [
    "## final dataset\n",
    "gold_analytics_cust=spark.read.format(\"delta\").load(f\"{gold_path}/customer/\")\n",
    "\n",
    "gold_analytics=gold_analytics_cust.alias(\"cust\")\\\n",
    "    .join(CustomerBehaviourDF.alias(\"behaviour\"),col(\"cust.customer_id\")==col(\"behaviour.customer_id\"),\"inner\")\\\n",
    "    .join(OrderDF.alias(\"order\"),col(\"cust.customer_id\")==col(\"order.customer_id\"),\"inner\")\\\n",
    "    .join(OrderLineDF.alias(\"orderline\"),col(\"order.order_id\")==col(\"orderline.order_id\"),\"inner\")\\\n",
    "    .selectExpr(\"cust.*\",\"order.order_id\",\"order.order_date\",\"order.order_channel\",\"order.store_code\",\"order.state\",\"order.order_country\",\"order.total_purchase_value\",\"order_line_id\",\"product\",\"quantity\",\"price\",\"order_currency\",\"behaviour.*\")\n",
    "                                 \n",
    "\n"
   ]
  }
 ],
 "metadata": {
  "application/vnd.databricks.v1+notebook": {
   "computePreferences": null,
   "dashboards": [],
   "environmentMetadata": {
    "base_environment": "",
    "client": "1"
   },
   "language": "python",
   "notebookMetadata": {
    "pythonIndentUnit": 4
   },
   "notebookName": "slivertogold",
   "widgets": {}
  },
  "language_info": {
   "name": "python"
  }
 },
 "nbformat": 4,
 "nbformat_minor": 0
}
