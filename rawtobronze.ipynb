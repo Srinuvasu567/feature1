{
 "cells": [
  {
   "cell_type": "markdown",
   "metadata": {
    "application/vnd.databricks.v1+cell": {
     "cellMetadata": {},
     "inputWidgets": {},
     "nuid": "dde7d490-98ff-4d26-8d6d-70dfb38d3426",
     "showTitle": false,
     "tableResultSettingsMap": {},
     "title": ""
    }
   },
   "source": [
    "Landing to Bronze"
   ]
  },
  {
   "cell_type": "code",
   "execution_count": 0,
   "metadata": {
    "application/vnd.databricks.v1+cell": {
     "cellMetadata": {
      "byteLimit": 2048000,
      "rowLimit": 10000
     },
     "inputWidgets": {},
     "nuid": "cdb69a70-7cd8-45ce-9bd7-80ca3b4d1b20",
     "showTitle": false,
     "tableResultSettingsMap": {},
     "title": ""
    }
   },
   "outputs": [],
   "source": [
    "from pyspark.sql.functions import *"
   ]
  },
  {
   "cell_type": "code",
   "execution_count": 0,
   "metadata": {
    "application/vnd.databricks.v1+cell": {
     "cellMetadata": {
      "byteLimit": 2048000,
      "rowLimit": 10000
     },
     "inputWidgets": {},
     "nuid": "48fce1b5-0b5a-45bd-aae0-3fa7fa976ffd",
     "showTitle": false,
     "tableResultSettingsMap": {},
     "title": ""
    }
   },
   "outputs": [],
   "source": [
    "##reading from raw customer and order data\n",
    "customerDf=spark.read.format(\"csv\").option(\"header\",\"true\").option(\"inferSchema\",\"true\").load(\"/mnt/bayerhackathon/customer.csv\")\n",
    "customerDf_col=customerDf.withColumn(\"last_updated_date\",current_timestamp())\n",
    "\n",
    "\n",
    "\n",
    "orderDf=spark.read.format(\"csv\").option(\"header\",\"true\").option(\"inferSchema\",\"true\").load(\"/mnt/bayerhackathon/order.csv\")\n",
    "orderDf_col=orderDf.withColumn(\"last_updated_date\",current_timestamp())\n",
    "\n",
    "\n",
    "orderlineDf=spark.read.format(\"csv\").option(\"header\",\"true\").option(\"inferSchema\",\"true\").load(\"/mnt/bayerhackathon/order_line.csv\")\n",
    "orderlineDf_col=orderlineDf.withColumn(\"last_updated_date\",current_timestamp())\n",
    "\n",
    "\n",
    "\n",
    "custBehavDf=spark.read.format(\"csv\").option(\"header\",\"true\").option(\"inferSchema\",\"true\").load(\"/mnt/bayerhackathon/customer_behaviour.csv\")\n",
    "custBehavDf_col=custBehavDf.withColumn(\"last_updated_date\",current_timestamp())\n",
    "\n",
    "\n",
    "\n"
   ]
  },
  {
   "cell_type": "code",
   "execution_count": 0,
   "metadata": {
    "application/vnd.databricks.v1+cell": {
     "cellMetadata": {
      "byteLimit": 2048000,
      "rowLimit": 10000
     },
     "inputWidgets": {},
     "nuid": "e15f92c3-0ddd-4be6-b87c-c980a6611942",
     "showTitle": false,
     "tableResultSettingsMap": {},
     "title": ""
    }
   },
   "outputs": [],
   "source": [
    "customerDf_col.count()"
   ]
  },
  {
   "cell_type": "code",
   "execution_count": 0,
   "metadata": {
    "application/vnd.databricks.v1+cell": {
     "cellMetadata": {
      "byteLimit": 2048000,
      "rowLimit": 10000
     },
     "inputWidgets": {},
     "nuid": "bd7e66fc-1f97-456f-9004-f9e2f385927e",
     "showTitle": false,
     "tableResultSettingsMap": {},
     "title": ""
    }
   },
   "outputs": [],
   "source": [
    "\n",
    "##writing to bronze layer\n",
    "bronzelocation=\"/mnt/bayerhackathon/squad2-srinivasu/bronze\"\n",
    "try:\n",
    "    if not any(dbutils.fs.ls(f\"{bronzelocation}/customer/\")):\n",
    "        customerDf_col.write.format(\"delta\").mode(\"overwrite\").save(f\"{bronzelocation}/customer/\")\n",
    "    else:\n",
    "        customerDf_col.write.format(\"delta\").mode(\"append\").save(f\"{bronzelocation}/customer/\")\n",
    "except Exception as e:\n",
    "    if \"FileNotFoundException\" in str(e):\n",
    "        customerDf_col.write.format(\"delta\").mode(\"overwrite\").save(f\"{bronzelocation}/customer/\")\n",
    "    else:\n",
    "        raise e\n",
    "\n",
    "\n",
    "\n"
   ]
  },
  {
   "cell_type": "code",
   "execution_count": 0,
   "metadata": {
    "application/vnd.databricks.v1+cell": {
     "cellMetadata": {
      "byteLimit": 2048000,
      "rowLimit": 10000
     },
     "inputWidgets": {},
     "nuid": "75a8bd50-0357-408b-8dc2-2f1618f26be5",
     "showTitle": false,
     "tableResultSettingsMap": {},
     "title": ""
    }
   },
   "outputs": [],
   "source": [
    "try:\n",
    "    if not any(dbutils.fs.ls(f\"{bronzelocation}/order/\")):\n",
    "        orderDf.write.format(\"delta\").mode(\"overwrite\").save(f\"{bronzelocation}/order/\")\n",
    "    else:\n",
    "        orderDf.write.format(\"delta\").mode(\"append\").save(f\"{bronzelocation}/order/\")\n",
    "except Exception as e:\n",
    "    if \"FileNotFoundException\" in str(e):\n",
    "        orderDf.write.format(\"delta\").mode(\"overwrite\").save(f\"{bronzelocation}/order/\")\n",
    "    else:\n",
    "        raise e"
   ]
  },
  {
   "cell_type": "code",
   "execution_count": 0,
   "metadata": {
    "application/vnd.databricks.v1+cell": {
     "cellMetadata": {
      "byteLimit": 2048000,
      "rowLimit": 10000
     },
     "inputWidgets": {},
     "nuid": "d8892c6e-2e5a-4ea5-807b-f7e3bfa5053f",
     "showTitle": false,
     "tableResultSettingsMap": {},
     "title": ""
    }
   },
   "outputs": [],
   "source": [
    "try:\n",
    "    if not any(dbutils.fs.ls(f\"{bronzelocation}/orderline/\")):\n",
    "        orderlineDf_col.write.format(\"delta\").mode(\"overwrite\").save(f\"{bronzelocation}/orderline/\")\n",
    "    else:\n",
    "        orderlineDf_col.write.format(\"delta\").mode(\"append\").save(f\"{bronzelocation}/orderline/\")\n",
    "except Exception as e:\n",
    "    if \"FileNotFoundException\" in str(e):\n",
    "        orderlineDf_col.write.format(\"delta\").mode(\"overwrite\").save(f\"{bronzelocation}/orderline/\")\n",
    "    else:\n",
    "        raise e"
   ]
  },
  {
   "cell_type": "code",
   "execution_count": 0,
   "metadata": {
    "application/vnd.databricks.v1+cell": {
     "cellMetadata": {
      "byteLimit": 2048000,
      "rowLimit": 10000
     },
     "inputWidgets": {},
     "nuid": "74337a4f-7a5f-4352-b040-542ebd9ae67f",
     "showTitle": false,
     "tableResultSettingsMap": {},
     "title": ""
    }
   },
   "outputs": [],
   "source": [
    "try:\n",
    "    if not any(dbutils.fs.ls(f\"{bronzelocation}/customerbehaviour/\")):\n",
    "        custBehavDf_col.write.format(\"delta\").mode(\"overwrite\").save(f\"{bronzelocation}/customerbehaviour/\")\n",
    "    else:\n",
    "        custBehavDf_col.write.format(\"delta\").mode(\"append\").save(f\"{bronzelocation}/customerbehaviour/\")\n",
    "except Exception as e:\n",
    "    if \"FileNotFoundException\" in str(e):\n",
    "        custBehavDf_col.write.format(\"delta\").mode(\"overwrite\").save(f\"{bronzelocation}/customerbehaviour/\")\n",
    "    else:\n",
    "        raise e"
   ]
  }
 ],
 "metadata": {
  "application/vnd.databricks.v1+notebook": {
   "computePreferences": null,
   "dashboards": [],
   "environmentMetadata": {
    "base_environment": "",
    "client": "1"
   },
   "language": "python",
   "notebookMetadata": {
    "mostRecentlyExecutedCommandWithImplicitDF": {
     "commandId": 6833231605578955,
     "dataframes": [
      "_sqldf"
     ]
    },
    "pythonIndentUnit": 4
   },
   "notebookName": "rawtobronze",
   "widgets": {}
  },
  "language_info": {
   "name": "python"
  }
 },
 "nbformat": 4,
 "nbformat_minor": 0
}
