{
 "cells": [
  {
   "cell_type": "markdown",
   "metadata": {
    "application/vnd.databricks.v1+cell": {
     "cellMetadata": {},
     "inputWidgets": {},
     "nuid": "84257174-7cae-4619-8a59-3e3e4a2766d7",
     "showTitle": false,
     "tableResultSettingsMap": {},
     "title": ""
    }
   },
   "source": [
    "# Bronze To Sliver"
   ]
  },
  {
   "cell_type": "code",
   "execution_count": 0,
   "metadata": {
    "application/vnd.databricks.v1+cell": {
     "cellMetadata": {
      "byteLimit": 2048000,
      "rowLimit": 10000
     },
     "inputWidgets": {},
     "nuid": "6f9e1944-ac9e-40a1-97f0-0395d8035a32",
     "showTitle": false,
     "tableResultSettingsMap": {},
     "title": ""
    }
   },
   "outputs": [],
   "source": [
    "from pyspark.sql.functions import col,sum"
   ]
  },
  {
   "cell_type": "code",
   "execution_count": 0,
   "metadata": {
    "application/vnd.databricks.v1+cell": {
     "cellMetadata": {
      "byteLimit": 2048000,
      "rowLimit": 10000
     },
     "inputWidgets": {},
     "nuid": "de6c4e9c-c570-4c92-a548-f3bc7f2c4e05",
     "showTitle": false,
     "tableResultSettingsMap": {},
     "title": ""
    }
   },
   "outputs": [],
   "source": [
    "##reading from bronze layer\n",
    "bronzeloaction=\"/mnt/bayerhackathon/squad2-srinivasu/bronze/\"\n",
    "customerDf=spark.read.format(\"delta\").load(f\"{bronzeloaction}/customer/\")\n",
    "customerDf_col=customerDf.filter(\"phone is not null\").dropDuplicates()\n",
    "\n",
    "\n",
    "\n",
    "orderDf=spark.read.format(\"delta\").load(f\"{bronzeloaction}/order/\").dropDuplicates()\n",
    "\n",
    "oderDf_data=customerDf_col.alias(\"cust\")\\\n",
    "                    .join(orderDf.alias(\"ord\"),col(\"cust.customer_id\")==col(\"ord.customer_id\"),\"inner\")\\\n",
    "                    .selectExpr(\"ord.*\")\n",
    "\n",
    "\n",
    "\n",
    "orderlineDf=spark.read.format(\"delta\").load(f\"{bronzeloaction}/orderline/\").dropDuplicates()\n",
    "\n",
    "orderlineDf_data=orderlineDf.alias(\"ord_line\")\\\n",
    "                     .join(oderDf_data.alias(\"ord_dt\"),col(\"ord_line.order_id\")==col(\"ord_dt.order_id\"),\"inner\")\\\n",
    "                     .selectExpr(\"ord_line.*\")   \n",
    "\n",
    "orderdf_tot=orderlineDf_data.withColumn(\"total_purchase_value_new\",col(\"quantity\")*col(\"price\"))\\\n",
    "                            .withColumn(\"total_purchase_value_new\",col(\"total_purchase_value_new\").cast(\"double\"))\n",
    "\n",
    "\n",
    "orderdf_agg=orderdf_tot.groupBy(\"order_id\").agg(sum(\"total_purchase_value_new\").alias(\"tot_purchase_vl\"))\n",
    "\n",
    "\n",
    "\n",
    "order_df_slv=orderdf_agg.alias(\"ord_agg\")\\\n",
    "            .join(oderDf_data.alias(\"ord_dt\"),col(\"ord_agg.order_id\")==col(\"ord_dt.order_id\"),\"inner\")\\\n",
    "            .selectExpr(\"ord_dt.*\",\"ord_agg.tot_purchase_vl \").drop(\"total_purchase_value\")\\\n",
    "            \n",
    "order_df_sl_f=order_df_slv.withColumn(\"total_purchase_value\",col(\"tot_purchase_vl\"))\\\n",
    "                          .drop(\"tot_purchase_vl\")          \n",
    "\n",
    "custBehavDf=spark.read.format(\"delta\").load(f\"{bronzeloaction}/customerbehaviour/\").dropDuplicates()\n",
    "custBehavDf_data=customerDf_col.alias(\"cust\")\\\n",
    "                .join(custBehavDf.alias(\"cust_beh\"),col(\"cust.customer_id\")==col(\"cust_beh.customer_id\"),\"inner\")\\\n",
    "                .selectExpr(\"cust_beh.*\")\n",
    "\n",
    "\n",
    "\n"
   ]
  },
  {
   "cell_type": "code",
   "execution_count": 0,
   "metadata": {
    "application/vnd.databricks.v1+cell": {
     "cellMetadata": {
      "byteLimit": 2048000,
      "rowLimit": 10000
     },
     "inputWidgets": {},
     "nuid": "a15c1986-cea3-4689-98a0-7d1363feca4c",
     "showTitle": false,
     "tableResultSettingsMap": {},
     "title": ""
    }
   },
   "outputs": [],
   "source": [
    "customerDf_col.count()"
   ]
  },
  {
   "cell_type": "code",
   "execution_count": 0,
   "metadata": {
    "application/vnd.databricks.v1+cell": {
     "cellMetadata": {
      "byteLimit": 2048000,
      "rowLimit": 10000
     },
     "inputWidgets": {},
     "nuid": "8c7c82ce-34df-4bd0-b7ab-cdf8e5ddc08a",
     "showTitle": false,
     "tableResultSettingsMap": {},
     "title": ""
    }
   },
   "outputs": [],
   "source": [
    "order_df_sl_f.count()"
   ]
  },
  {
   "cell_type": "code",
   "execution_count": 0,
   "metadata": {
    "application/vnd.databricks.v1+cell": {
     "cellMetadata": {
      "byteLimit": 2048000,
      "rowLimit": 10000
     },
     "inputWidgets": {},
     "nuid": "df874d1f-f7a4-4dea-867a-b2c250454bb2",
     "showTitle": false,
     "tableResultSettingsMap": {},
     "title": ""
    }
   },
   "outputs": [],
   "source": [
    "orderlineDf.count()"
   ]
  },
  {
   "cell_type": "code",
   "execution_count": 0,
   "metadata": {
    "application/vnd.databricks.v1+cell": {
     "cellMetadata": {
      "byteLimit": 2048000,
      "rowLimit": 10000
     },
     "inputWidgets": {},
     "nuid": "42442a6c-437c-427e-b183-7cf574e738dd",
     "showTitle": false,
     "tableResultSettingsMap": {},
     "title": ""
    }
   },
   "outputs": [],
   "source": [
    "custBehavDf_data.count()"
   ]
  },
  {
   "cell_type": "code",
   "execution_count": 0,
   "metadata": {
    "application/vnd.databricks.v1+cell": {
     "cellMetadata": {
      "byteLimit": 2048000,
      "rowLimit": 10000
     },
     "inputWidgets": {},
     "nuid": "6a0a99e8-4741-438b-810d-f4a6a865afe7",
     "showTitle": false,
     "tableResultSettingsMap": {},
     "title": ""
    }
   },
   "outputs": [],
   "source": [
    "##writing to sliver location\n",
    "sliverlocation=\"/mnt/bayerhackathon/squad2-srinivasu/sliver/\"\n",
    "customerDf_col.write.format(\"delta\").mode(\"overwrite\").save(f\"{sliverlocation}/customer/\")\n",
    "order_df_sl_f.write.format(\"delta\").mode(\"overwrite\").save(f\"{sliverlocation}/order/\")\n",
    "orderlineDf_data.write.format(\"delta\").mode(\"overwrite\").save(f\"{sliverlocation}/orderline/\")\n",
    "custBehavDf_data.write.format(\"delta\").mode(\"overwrite\").save(f\"{sliverlocation}/customerbehaviour/\")\n"
   ]
  }
 ],
 "metadata": {
  "application/vnd.databricks.v1+notebook": {
   "computePreferences": null,
   "dashboards": [],
   "environmentMetadata": {
    "base_environment": "",
    "client": "1"
   },
   "language": "python",
   "notebookMetadata": {
    "pythonIndentUnit": 4
   },
   "notebookName": "bronzetosliver",
   "widgets": {}
  },
  "language_info": {
   "name": "python"
  }
 },
 "nbformat": 4,
 "nbformat_minor": 0
}
